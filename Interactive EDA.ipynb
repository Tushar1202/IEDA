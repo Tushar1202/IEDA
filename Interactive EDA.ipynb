{
 "cells": [
  {
   "cell_type": "code",
   "execution_count": 1,
   "metadata": {
    "collapsed": true
   },
   "outputs": [],
   "source": [
    "'''\n",
    "Author:Abir Pattnaik\n",
    "Project Name:IEDA\n",
    "Functionality: An interactive EDA that can help provide analysis from the data that was provided with you.\n",
    "'''\n",
    "#packages imported\n",
    "import os\n",
    "import pandas as pd"
   ]
  },
  {
   "cell_type": "code",
   "execution_count": 2,
   "metadata": {},
   "outputs": [
    {
     "name": "stdout",
     "output_type": "stream",
     "text": [
      "Hello I am IEDA, your personal assistant for Exploratory Data Analysis.Let's begin shall we ?\n"
     ]
    }
   ],
   "source": [
    "print 'Hello I am IEDA, your personal assistant for Exploratory Data Analysis.Let\\'s begin shall we ?'"
   ]
  },
  {
   "cell_type": "code",
   "execution_count": 3,
   "metadata": {},
   "outputs": [
    {
     "name": "stdout",
     "output_type": "stream",
     "text": [
      "What kind of file is your dataset? \n",
      "1.Excel\n",
      "2.CSV\n",
      "2\n"
     ]
    }
   ],
   "source": [
    "choice=input('What kind of file is your dataset? \\n1.Excel\\n2.CSV\\n')"
   ]
  },
  {
   "cell_type": "code",
   "execution_count": 4,
   "metadata": {},
   "outputs": [
    {
     "name": "stdout",
     "output_type": "stream",
     "text": [
      "Read csv file\n"
     ]
    }
   ],
   "source": [
    "try:\n",
    "    file_name=raw_input('Provide the file name\\n')\n",
    "    if choice==1:\n",
    "        print('Read Excel file')\n",
    "        pd.read_excel()\n",
    "    elif choice==2:\n",
    "        print('Read csv file')\n",
    "        pr.readcsv()\n",
    "        \n",
    "except:\n",
    "    print('Wrong file or wrong extension')"
   ]
  },
  {
   "cell_type": "code",
   "execution_count": null,
   "metadata": {
    "collapsed": true
   },
   "outputs": [],
   "source": []
  }
 ],
 "metadata": {
  "kernelspec": {
   "display_name": "Python 2",
   "language": "python",
   "name": "python2"
  },
  "language_info": {
   "codemirror_mode": {
    "name": "ipython",
    "version": 2
   },
   "file_extension": ".py",
   "mimetype": "text/x-python",
   "name": "python",
   "nbconvert_exporter": "python",
   "pygments_lexer": "ipython2",
   "version": "2.7.13"
  }
 },
 "nbformat": 4,
 "nbformat_minor": 2
}
